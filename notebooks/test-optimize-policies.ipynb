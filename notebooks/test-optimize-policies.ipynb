{
 "cells": [
  {
   "cell_type": "markdown",
   "id": "8461414d-08d5-4a11-bfb9-113ae052a289",
   "metadata": {},
   "source": [
    "# Test: Optimize Deterministic Policies"
   ]
  },
  {
   "cell_type": "markdown",
   "id": "fa34d3a9-26d7-4ce5-bd4f-54c2928f7d87",
   "metadata": {},
   "source": [
    "## Preamble"
   ]
  },
  {
   "cell_type": "code",
   "execution_count": 1,
   "id": "dfaa346d-b9cf-4c2d-9dbc-cf1847a5e64c",
   "metadata": {},
   "outputs": [],
   "source": [
    "%load_ext autoreload\n",
    "%autoreload 2"
   ]
  },
  {
   "cell_type": "code",
   "execution_count": 2,
   "id": "0a182af9-06e5-45bd-9982-1c8521d1260a",
   "metadata": {},
   "outputs": [],
   "source": [
    "import pandas"
   ]
  },
  {
   "cell_type": "code",
   "execution_count": 3,
   "id": "6238279e-52e1-4594-bdc4-762acba3c97a",
   "metadata": {},
   "outputs": [],
   "source": [
    "import supplyflow"
   ]
  },
  {
   "cell_type": "code",
   "execution_count": 4,
   "id": "1638ca7e-66a3-4632-90b7-1fcb22705f71",
   "metadata": {},
   "outputs": [],
   "source": [
    "import pandas\n",
    "import altair\n",
    "from datetime import timedelta"
   ]
  },
  {
   "cell_type": "code",
   "execution_count": 5,
   "id": "332e58b1-33fb-40ec-b9ae-0d5ea4c0965a",
   "metadata": {},
   "outputs": [],
   "source": [
    "import supplyflow"
   ]
  },
  {
   "cell_type": "code",
   "execution_count": 6,
   "id": "30cd53d8-9402-4839-b58a-1a0ff005062c",
   "metadata": {},
   "outputs": [],
   "source": [
    "supplyflow.viz.enable_theme(\"dark\")"
   ]
  },
  {
   "cell_type": "markdown",
   "id": "a948a0ca-3798-471a-a26e-693ab269e313",
   "metadata": {},
   "source": [
    "### Demo Supply Chain"
   ]
  },
  {
   "cell_type": "code",
   "execution_count": 7,
   "id": "bd2c23e1",
   "metadata": {},
   "outputs": [],
   "source": [
    "from supplyflow.core import Product, Warehouse, DeterministicSupplyChain, StochasticSupplyChain\n",
    "from supplyflow.core import ConstantDemand, ConstantLeadTime, NormalDemand, NormalLeadTime\n"
   ]
  },
  {
   "cell_type": "code",
   "execution_count": 8,
   "id": "1c451818",
   "metadata": {},
   "outputs": [],
   "source": [
    "from supplyflow.viz import supply_chain_plot"
   ]
  },
  {
   "cell_type": "markdown",
   "id": "6fbf30e0",
   "metadata": {},
   "source": [
    "#### Deterministic"
   ]
  },
  {
   "cell_type": "code",
   "execution_count": 9,
   "id": "8bdb9b25-bff3-405c-86f8-03624451af7a",
   "metadata": {},
   "outputs": [],
   "source": [
    "supply_chain_d = DeterministicSupplyChain(\n",
    "    product=Product(\n",
    "        name=\"Spam\",\n",
    "        holding_cost=100,\n",
    "    ),\n",
    "    warehouse=Warehouse(\n",
    "        name=\"1\",\n",
    "    ),\n",
    "    demand_source=ConstantDemand(20),\n",
    "    forecast_source=ConstantDemand(21),\n",
    "    lead_time_source=ConstantLeadTime(5),\n",
    "    freq=timedelta(days=1),\n",
    "    level=120,\n",
    "    transaction_fixed_cost=500,\n",
    ")"
   ]
  },
  {
   "cell_type": "markdown",
   "id": "447d25f7",
   "metadata": {},
   "source": [
    "### Stochastic"
   ]
  },
  {
   "cell_type": "code",
   "execution_count": 10,
   "id": "2756fcec",
   "metadata": {},
   "outputs": [],
   "source": [
    "supply_chain_s = StochasticSupplyChain(\n",
    "    product=Product(\n",
    "        name=\"Spam\",\n",
    "        holding_cost=100,\n",
    "    ),\n",
    "    warehouse=Warehouse(\n",
    "        name=\"2\",\n",
    "    ),\n",
    "    demand_source=NormalDemand(20,2),\n",
    "    forecast_source=NormalDemand(20,2),\n",
    "    lead_time_source=NormalLeadTime(3, 1),\n",
    "    freq=timedelta(days=1),\n",
    "    level=120,\n",
    "    transaction_fixed_cost=500,\n",
    ")"
   ]
  },
  {
   "cell_type": "markdown",
   "id": "29f0d22f",
   "metadata": {},
   "source": [
    "### QPolicy"
   ]
  },
  {
   "cell_type": "code",
   "execution_count": 11,
   "id": "b7792516",
   "metadata": {},
   "outputs": [],
   "source": [
    "from supplyflow.policy import QPolicy"
   ]
  },
  {
   "cell_type": "code",
   "execution_count": 12,
   "id": "9a62d132",
   "metadata": {},
   "outputs": [
    {
     "ename": "NotImplementedError",
     "evalue": "TODO",
     "output_type": "error",
     "traceback": [
      "\u001b[0;31m---------------------------------------------------------------------------\u001b[0m",
      "\u001b[0;31mNotImplementedError\u001b[0m                       Traceback (most recent call last)",
      "Cell \u001b[0;32mIn[12], line 2\u001b[0m\n\u001b[1;32m      1\u001b[0m supply_chain_d\u001b[38;5;241m.\u001b[39mset_policy(\n\u001b[0;32m----> 2\u001b[0m     QPolicy\u001b[38;5;241m.\u001b[39moptimize(supply_chain_d)\n\u001b[1;32m      3\u001b[0m )\n",
      "File \u001b[0;32m~/Documents/Work/RnD/FLOSS/supplyflow/supplyflow/policy.py:98\u001b[0m, in \u001b[0;36mQPolicy.optimize\u001b[0;34m(cls, supply_chain)\u001b[0m\n\u001b[1;32m     91\u001b[0m \u001b[38;5;129m@classmethod\u001b[39m\n\u001b[1;32m     92\u001b[0m \u001b[38;5;28;01mdef\u001b[39;00m \u001b[38;5;21moptimize\u001b[39m(\n\u001b[1;32m     93\u001b[0m     \u001b[38;5;28mcls\u001b[39m,\n\u001b[1;32m     94\u001b[0m     supply_chain: \u001b[38;5;124m\"\u001b[39m\u001b[38;5;124mSupplyChain\u001b[39m\u001b[38;5;124m\"\u001b[39m,\n\u001b[1;32m     95\u001b[0m ) \u001b[38;5;241m-\u001b[39m\u001b[38;5;241m>\u001b[39m \u001b[38;5;124m\"\u001b[39m\u001b[38;5;124mQPolicy\u001b[39m\u001b[38;5;124m\"\u001b[39m:\n\u001b[1;32m     96\u001b[0m \u001b[38;5;250m    \u001b[39m\u001b[38;5;124;03m\"\"\"Optimize the policy parameters for the given supply chain.\"\"\"\u001b[39;00m\n\u001b[0;32m---> 98\u001b[0m     q \u001b[38;5;241m=\u001b[39m supply_chain\u001b[38;5;241m.\u001b[39mEOQ()\n\u001b[1;32m     99\u001b[0m     \u001b[38;5;28;01mreturn\u001b[39;00m \u001b[38;5;28mcls\u001b[39m(\n\u001b[1;32m    100\u001b[0m         quantity\u001b[38;5;241m=\u001b[39mq,\n\u001b[1;32m    101\u001b[0m     )\n",
      "File \u001b[0;32m~/Documents/Work/RnD/FLOSS/supplyflow/supplyflow/core.py:467\u001b[0m, in \u001b[0;36mSupplyChain.EOQ\u001b[0;34m(self)\u001b[0m\n\u001b[1;32m    465\u001b[0m \u001b[38;5;250m\u001b[39m\u001b[38;5;124;03m\"\"\"Economical Order Quantity - cf. Vandeput p. 18\"\"\"\u001b[39;00m\n\u001b[1;32m    466\u001b[0m k \u001b[38;5;241m=\u001b[39m \u001b[38;5;28mself\u001b[39m\u001b[38;5;241m.\u001b[39mtransaction_fixed_cost\n\u001b[0;32m--> 467\u001b[0m D \u001b[38;5;241m=\u001b[39m \u001b[38;5;28mself\u001b[39m\u001b[38;5;241m.\u001b[39mexpected_total_demand(timespan\u001b[38;5;241m=\u001b[39mtimedelta(days\u001b[38;5;241m=\u001b[39m\u001b[38;5;241m365\u001b[39m))\n\u001b[1;32m    468\u001b[0m h \u001b[38;5;241m=\u001b[39m \u001b[38;5;28mself\u001b[39m\u001b[38;5;241m.\u001b[39mproduct\u001b[38;5;241m.\u001b[39munit_holding_cost  \u001b[38;5;66;03m# per year\u001b[39;00m\n\u001b[1;32m    469\u001b[0m quantity \u001b[38;5;241m=\u001b[39m math\u001b[38;5;241m.\u001b[39mceil(math\u001b[38;5;241m.\u001b[39msqrt(\u001b[38;5;241m2\u001b[39m \u001b[38;5;241m*\u001b[39m k \u001b[38;5;241m*\u001b[39m D \u001b[38;5;241m/\u001b[39m h))\n",
      "File \u001b[0;32m~/Documents/Work/RnD/FLOSS/supplyflow/supplyflow/core.py:459\u001b[0m, in \u001b[0;36mSupplyChain.expected_total_demand\u001b[0;34m(self, timespan)\u001b[0m\n\u001b[1;32m    457\u001b[0m \u001b[38;5;28;01mdef\u001b[39;00m \u001b[38;5;21mexpected_total_demand\u001b[39m(\u001b[38;5;28mself\u001b[39m, timespan) \u001b[38;5;241m-\u001b[39m\u001b[38;5;241m>\u001b[39m \u001b[38;5;28mint\u001b[39m:\n\u001b[1;32m    458\u001b[0m \u001b[38;5;250m    \u001b[39m\u001b[38;5;124;03m\"\"\"Expected total yearly demand.\"\"\"\u001b[39;00m\n\u001b[0;32m--> 459\u001b[0m     \u001b[38;5;28;01mraise\u001b[39;00m \u001b[38;5;167;01mNotImplementedError\u001b[39;00m(\u001b[38;5;124m\"\u001b[39m\u001b[38;5;124mTODO\u001b[39m\u001b[38;5;124m\"\u001b[39m)\n\u001b[1;32m    460\u001b[0m     \u001b[38;5;66;03m# TODO: calculate by extrapolating the forecast\u001b[39;00m\n\u001b[1;32m    461\u001b[0m     total \u001b[38;5;241m=\u001b[39m \u001b[38;5;28;01mNone\u001b[39;00m\n",
      "\u001b[0;31mNotImplementedError\u001b[0m: TODO"
     ]
    }
   ],
   "source": [
    "supply_chain_d.set_policy(\n",
    "    QPolicy.optimize(supply_chain_d)\n",
    ")"
   ]
  },
  {
   "cell_type": "code",
   "execution_count": null,
   "id": "102c934c",
   "metadata": {},
   "outputs": [],
   "source": [
    "supply_chain_d.reset()\n",
    "supply_chain_d.run(128)\n"
   ]
  },
  {
   "cell_type": "code",
   "execution_count": null,
   "id": "b1094aad",
   "metadata": {},
   "outputs": [],
   "source": [
    "supply_chain_plot(supply_chain_d).interactive()\n"
   ]
  },
  {
   "cell_type": "markdown",
   "id": "fa919dbe",
   "metadata": {},
   "source": [
    "### PQPolicy"
   ]
  },
  {
   "cell_type": "code",
   "execution_count": null,
   "id": "6390da4f",
   "metadata": {},
   "outputs": [],
   "source": [
    "from supplyflow.core import PQPolicy"
   ]
  },
  {
   "cell_type": "code",
   "execution_count": null,
   "id": "0fe619e3",
   "metadata": {},
   "outputs": [],
   "source": [
    "supply_chain_d.set_policy(\n",
    "    PQPolicy.optimize(supply_chain_d)\n",
    ")"
   ]
  },
  {
   "cell_type": "code",
   "execution_count": null,
   "id": "bd168165",
   "metadata": {},
   "outputs": [],
   "source": [
    "supply_chain_d.reset()\n",
    "supply_chain_d.run(128)"
   ]
  },
  {
   "cell_type": "code",
   "execution_count": null,
   "id": "696b3839",
   "metadata": {},
   "outputs": [],
   "source": [
    "supply_chain_plot(supply_chain_d).interactive()\n"
   ]
  },
  {
   "cell_type": "code",
   "execution_count": null,
   "id": "46d7e1ae",
   "metadata": {},
   "outputs": [],
   "source": [
    "supply_chain_s.set_policy(\n",
    "    PQPolicy.optimize(supply_chain_s)\n",
    ")"
   ]
  },
  {
   "cell_type": "markdown",
   "id": "7c4756f2",
   "metadata": {},
   "source": [
    "### RSPolicy"
   ]
  },
  {
   "cell_type": "code",
   "execution_count": null,
   "id": "354a677c",
   "metadata": {},
   "outputs": [],
   "source": [
    "from supplyflow.core import RSPolicy"
   ]
  },
  {
   "cell_type": "code",
   "execution_count": null,
   "id": "7f55c312",
   "metadata": {},
   "outputs": [],
   "source": [
    "supply_chain_d.set_policy(\n",
    "    RSPolicy.optimize(supply_chain_d)\n",
    ")"
   ]
  },
  {
   "cell_type": "code",
   "execution_count": null,
   "id": "58f8388d",
   "metadata": {},
   "outputs": [],
   "source": [
    "supply_chain_d.reset()\n",
    "supply_chain_d.run(128)"
   ]
  },
  {
   "cell_type": "code",
   "execution_count": null,
   "id": "3d43a5a7",
   "metadata": {},
   "outputs": [],
   "source": []
  }
 ],
 "metadata": {
  "kernelspec": {
   "display_name": "supplyflow",
   "language": "python",
   "name": "python3"
  },
  "language_info": {
   "codemirror_mode": {
    "name": "ipython",
    "version": 3
   },
   "file_extension": ".py",
   "mimetype": "text/x-python",
   "name": "python",
   "nbconvert_exporter": "python",
   "pygments_lexer": "ipython3",
   "version": "3.12.8"
  }
 },
 "nbformat": 4,
 "nbformat_minor": 5
}
